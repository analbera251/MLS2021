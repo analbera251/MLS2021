{
 "cells": [
  {
   "cell_type": "code",
   "execution_count": 49,
   "id": "simplified-natural",
   "metadata": {},
   "outputs": [
    {
     "name": "stdout",
     "output_type": "stream",
     "text": [
      "Enter the path of the csv file :/home/sanu/track.csv\n",
      "Enter the path of directory where video frames are residing:/home/sanu/Documents/Koldrone_Frames/\n"
     ]
    }
   ],
   "source": [
    "import csv\n",
    "import cv2\n",
    "color = (0,0,255)\n",
    "\n",
    "path1 = input('Enter the path of the csv file :')\n",
    "path2 = input('Enter the path of directory where video frames are residing:')\n",
    "\n",
    "#in my case: path1 = /home/sanu/track.csv\n",
    "# path2 = /home/sanu/Documents/Koldrone_Frames/\n",
    "\n",
    "def displaycsv(path1,path2):\n",
    "    with open(path1,'r') as csvfile:\n",
    "        csv_reader = csv.reader(csvfile, delimiter = \",\")\n",
    "        for rows in csvfile:\n",
    "            frame_details = list(rows.split(\",\"))\n",
    "            frameno = frame_details[0]\n",
    "            framename =('Frame' + frameno + '.jpg')\n",
    "            xtl=int(float(frame_details[1]))\n",
    "            ytl=int(float(frame_details[2]))\n",
    "            xbr=int(float(frame_details[3]))\n",
    "            ybr=int(float(frame_details[4]))\n",
    "            #print(type(xtl))\n",
    "            start=(xtl,ytl)\n",
    "            end=(xbr,ybr)\n",
    "            img = cv2.imread(path2+framename)\n",
    "            img = cv2.rectangle(img,start,end,color,2)\n",
    "            #cv2.imwrite(\"/home/sanu/Documents/Annotated_Frames/\"+ \"Annotated\" + frameno + \".jpg\",img)\n",
    "            filename = 'Annotated' + frameno + \".jpg\" \n",
    "            cv2.imwrite(\"/home/sanu/Documents/Annotated_Frames/\"+filename,img)\n",
    "\n",
    "        \n",
    "\n",
    "displaycsv(path1,path2)\n"
   ]
  },
  {
   "cell_type": "code",
   "execution_count": null,
   "id": "ready-parade",
   "metadata": {},
   "outputs": [],
   "source": []
  }
 ],
 "metadata": {
  "kernelspec": {
   "display_name": "Python 3",
   "language": "python",
   "name": "python3"
  },
  "language_info": {
   "codemirror_mode": {
    "name": "ipython",
    "version": 3
   },
   "file_extension": ".py",
   "mimetype": "text/x-python",
   "name": "python",
   "nbconvert_exporter": "python",
   "pygments_lexer": "ipython3",
   "version": "3.8.5"
  }
 },
 "nbformat": 4,
 "nbformat_minor": 5
}
