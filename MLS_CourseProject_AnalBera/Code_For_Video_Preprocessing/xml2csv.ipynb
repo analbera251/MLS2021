{
 "cells": [
  {
   "cell_type": "code",
   "execution_count": 10,
   "id": "liable-discussion",
   "metadata": {},
   "outputs": [
    {
     "name": "stdout",
     "output_type": "stream",
     "text": [
      "<Element 'annotations' at 0x7fbdbe653360>\n",
      "('070', '870.00', '115.74', '885.60', '133.57')\n",
      "('071', '870.00', '115.74', '885.60', '133.57')\n",
      "('080', '878.92', '141.00', '893.03', '157.35')\n",
      "('081', '878.92', '141.00', '893.03', '157.35')\n",
      "('090', '887.15', '166.14', '906.41', '182.83')\n",
      "('091', '887.15', '166.14', '906.41', '182.83')\n",
      "('100', '899.99', '191.81', '915.39', '209.79')\n",
      "('101', '899.99', '191.81', '915.39', '209.79')\n",
      "('110', '911.54', '223.91', '930.80', '245.74')\n",
      "('111', '911.54', '223.91', '930.80', '245.74')\n",
      "('120', '926.95', '257.29', '942.35', '273.98')\n",
      "('121', '926.95', '257.29', '942.35', '273.98')\n",
      "('130', '941.07', '304.79', '959.04', '324.05')\n",
      "('131', '941.07', '304.79', '959.04', '324.05')\n",
      "('140', '960.33', '360.00', '979.58', '383.11')\n",
      "('141', '960.33', '360.00', '979.58', '383.11')\n"
     ]
    }
   ],
   "source": [
    "import xml.etree.ElementTree as ET\n",
    "import csv\n",
    "tree = ET.parse('/home/sanu/Documents/track.xml')\n",
    "root = tree.getroot()\n",
    "print(root)\n",
    "fields = ['frameno','xtl','ytl','xbr','ybr']\n",
    "filename = \"track.csv\"    # name of the csv file\n",
    "\n",
    "with open(filename,'w') as csvfile:\n",
    "    csvwriter = csv.writer(csvfile)\n",
    "    \n",
    "    csvwriter.writerow(fields)\n",
    "Tracks = root.findall(\"track\")\n",
    "\n",
    "with open(filename,'w') as csvfile:\n",
    "    csvwriter = csv.writer(csvfile)\n",
    "    for i in Tracks:\n",
    "        for j in range(2):\n",
    "            frame = i[j].attrib['frame']\n",
    "            #print(frame2)\n",
    "            frame = format(int(frame),'03d')\n",
    "            row=(frame,i[1].attrib['xtl'],i[1].attrib['ytl'],i[1].attrib['xbr'],i[1].attrib['ybr'])\n",
    "            print(row)\n",
    "            csvwriter.writerow(row)\n",
    "        \n",
    "\n"
   ]
  }
 ],
 "metadata": {
  "kernelspec": {
   "display_name": "Python 3",
   "language": "python",
   "name": "python3"
  },
  "language_info": {
   "codemirror_mode": {
    "name": "ipython",
    "version": 3
   },
   "file_extension": ".py",
   "mimetype": "text/x-python",
   "name": "python",
   "nbconvert_exporter": "python",
   "pygments_lexer": "ipython3",
   "version": "3.8.5"
  }
 },
 "nbformat": 4,
 "nbformat_minor": 5
}
